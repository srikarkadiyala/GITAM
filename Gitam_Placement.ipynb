{
  "nbformat": 4,
  "nbformat_minor": 0,
  "metadata": {
    "colab": {
      "provenance": [],
      "authorship_tag": "ABX9TyPyfW8/c6PpZ3UeWXDnvG4F",
      "include_colab_link": true
    },
    "kernelspec": {
      "name": "python3",
      "display_name": "Python 3"
    },
    "language_info": {
      "name": "python"
    }
  },
  "cells": [
    {
      "cell_type": "markdown",
      "metadata": {
        "id": "view-in-github",
        "colab_type": "text"
      },
      "source": [
        "<a href=\"https://colab.research.google.com/github/srikarkadiyala/GITAM/blob/main/Gitam_Placement.ipynb\" target=\"_parent\"><img src=\"https://colab.research.google.com/assets/colab-badge.svg\" alt=\"Open In Colab\"/></a>"
      ]
    },
    {
      "cell_type": "markdown",
      "source": [
        "#GITAM CODING ASSIGNMENT\n",
        "###NAME:SRIKAR KADIYALA\n",
        "###SEC:CSE B(2)\n",
        "###PIN NUMBER:222010302059"
      ],
      "metadata": {
        "id": "DzxNwvCAtBhv"
      }
    },
    {
      "cell_type": "markdown",
      "source": [
        "There are N children standing in a line. Each child is assigned a rating value.\n",
        "You are giving candies to these children subjected to the following requirements:\n",
        "1. Each child must have at least one candy.\n",
        "2. Children with a higher rating get more candies than their neighbours.\n",
        "\n",
        "What is the minimum candies you must give?\n",
        "Input Format:\n",
        "The first and the only argument contains N integers in an array A.\n",
        "Output Format:\n",
        "Return an integer, representing the minimum candies to be given."
      ],
      "metadata": {
        "id": "OI_3s4ym8hPT"
      }
    },
    {
      "cell_type": "code",
      "execution_count": null,
      "metadata": {
        "colab": {
          "base_uri": "https://localhost:8080/"
        },
        "id": "2nHwhnxktArP",
        "outputId": "8aff597c-e5c9-42db-82fe-9539526cb3e1"
      },
      "outputs": [
        {
          "output_type": "stream",
          "name": "stdout",
          "text": [
            "3\n"
          ]
        }
      ],
      "source": [
        "\n",
        "\n",
        "def min_candies(A):\n",
        "    n = len(A)\n",
        "\n",
        "    # Step 1: Initialize candies array\n",
        "    candies = [1] * n\n",
        "\n",
        "    # Step 2: Traverse from left to right\n",
        "    for i in range(1, n):\n",
        "        if A[i] > A[i - 1]:\n",
        "            candies[i] = candies[i - 1] + 1\n",
        "\n",
        "    # Step 3: Traverse from right to left\n",
        "    for i in range(n - 2, -1, -1):\n",
        "        if A[i] > A[i + 1] and candies[i] <= candies[i + 1]:\n",
        "            candies[i] = candies[i + 1] + 1\n",
        "\n",
        "    # Step 4: Sum up candies array\n",
        "    return sum(candies)\n",
        "\n",
        "# Example usage\n",
        "A = [1, 2]\n",
        "result = min_candies(A)\n",
        "print(result)\n"
      ]
    },
    {
      "cell_type": "markdown",
      "source": [
        "Say you have an array, A, for which the ith element is the price of a given stock on day i.\n",
        "If you were only permitted to complete at most one transaction (i.e, buy one and sell one share of the\n",
        "stock), design an algorithm to find the maximum profit.\n",
        "Return the maximum possible profit.\n",
        "Problem Constraints\n",
        "0 <= len(A) <= 7e5\n",
        "1 <= A[i] <= 1e7\n",
        "Input Format\n",
        "The first and the only argument is an array of integers, A.\n",
        "Output Format\n",
        "Return an integer, representing the maximum possible profit.\n",
        "Example Input\n",
        "Input 1:\n",
        "A = [1, 2]\n",
        "Input 2:\n",
        "A = [1, 4, 5, 2, 4]\n",
        "Example Output\n",
        "Output 1:\n",
        "1\n",
        "Output 2:\n",
        "4"
      ],
      "metadata": {
        "id": "EtzgdNRg8dfE"
      }
    },
    {
      "cell_type": "code",
      "source": [
        "def max_profit(A):\n",
        "    if not A or len(A) < 2:\n",
        "        return 0\n",
        "\n",
        "    min_price = A[0]\n",
        "    max_profit = 0\n",
        "\n",
        "    for price in A:\n",
        "        # Update the minimum price if a lower price is encountered\n",
        "        min_price = min(min_price, price)\n",
        "\n",
        "        # Update the maximum profit if selling at the current price yields a higher profit\n",
        "        max_profit = max(max_profit, price - min_price)\n",
        "\n",
        "    return max_profit\n",
        "\n",
        "# Example usage\n",
        "A1 = [1, 2]\n",
        "A2 = [1, 4, 5, 2, 4]\n",
        "\n",
        "result1 = max_profit(A1)\n",
        "result2 = max_profit(A2)\n",
        "\n",
        "print(result1)  # Output 1\n",
        "print(result2)  # Output 4\n",
        "\n"
      ],
      "metadata": {
        "colab": {
          "base_uri": "https://localhost:8080/"
        },
        "id": "Sny9Fdsb81WC",
        "outputId": "fc58bed9-f604-47cb-f3fa-ef4afed7cf6c"
      },
      "execution_count": null,
      "outputs": [
        {
          "output_type": "stream",
          "name": "stdout",
          "text": [
            "1\n",
            "4\n"
          ]
        }
      ]
    },
    {
      "cell_type": "markdown",
      "source": [
        "You are climbing a stair case and it takes A steps to reach to the top.\n",
        "Each time you can either climb 1 or 2 steps. In how many distinct ways can you climb to the top?\n",
        "Input Format:\n",
        "The first and the only argument contains an integer A, the number of steps.\n",
        "Output Format:\n",
        "Return an integer, representing the number of ways to reach the top.\n",
        "Constrains:\n",
        "1 <= A <= 36"
      ],
      "metadata": {
        "id": "WSTQAlUJ9Aqk"
      }
    },
    {
      "cell_type": "code",
      "source": [
        "def climbStairs(A):\n",
        "    if A <= 0:\n",
        "        return 0\n",
        "    if A == 1:\n",
        "        return 1\n",
        "    if A == 2:\n",
        "        return 2\n",
        "\n",
        "    ways = [0] * (A + 1)\n",
        "    ways[1] = 1\n",
        "    ways[2] = 2\n",
        "\n",
        "    for i in range(3, A + 1):\n",
        "        ways[i] = ways[i - 1] + ways[i - 2]\n",
        "\n",
        "    return ways[A]\n",
        "\n",
        "# Example usage\n",
        "A1 = 2\n",
        "A2 = 3\n",
        "\n",
        "result1 = climbStairs(A1)\n",
        "result2 = climbStairs(A2)\n",
        "\n",
        "print(result1)  # Output 2\n",
        "print(result2)  # Output 3\n",
        "\n"
      ],
      "metadata": {
        "colab": {
          "base_uri": "https://localhost:8080/"
        },
        "id": "uw3PqWwq9BSd",
        "outputId": "a54e471b-d5e5-4f6d-e277-346d6ce4a73e"
      },
      "execution_count": null,
      "outputs": [
        {
          "output_type": "stream",
          "name": "stdout",
          "text": [
            "2\n",
            "3\n"
          ]
        }
      ]
    },
    {
      "cell_type": "markdown",
      "source": [
        "Problem Description\n",
        "Given an index k, return the kth row of the Pascal's triangle.\n",
        "Pascal's triangle: To generate A[C] in row R, sum up A'[C] and A'[C-1] from previous row R - 1."
      ],
      "metadata": {
        "id": "76BSKBuU9Dwc"
      }
    },
    {
      "cell_type": "code",
      "source": [
        "def getRow(k):\n",
        "    if k < 0:\n",
        "        return []\n",
        "\n",
        "    result = [1]\n",
        "\n",
        "    for i in range(1, k + 1):\n",
        "        # Calculate the next element by summing up corresponding elements from the previous row\n",
        "        current_element = result[i - 1] * (k - i + 1) // i\n",
        "        result.append(current_element)\n",
        "\n",
        "    return result\n",
        "\n",
        "# Example usage\n",
        "k = 3\n",
        "result = getRow(k)\n",
        "print(result)  # Output: [1, 3, 3, 1]\n"
      ],
      "metadata": {
        "colab": {
          "base_uri": "https://localhost:8080/"
        },
        "id": "6NjLrS_I9DPE",
        "outputId": "023b36f8-3ccd-4e44-8b2a-59d066bf54ad"
      },
      "execution_count": null,
      "outputs": [
        {
          "output_type": "stream",
          "name": "stdout",
          "text": [
            "[1, 3, 3, 1]\n"
          ]
        }
      ]
    },
    {
      "cell_type": "markdown",
      "source": [
        "There are certain problems which are asked in the interview to also check how you take care of overflows\n",
        "in your problem.\n",
        "This is one of those problems.\n",
        "Please take extra care to make sure that you are type-casting your ints to long properly and at all places.\n",
        "Try to verify if your solution works if number of elements is as large as 105\n",
        "Food for thought :\n",
        "• Even though it might not be required in this problem, in some cases, you might be required to order the\n",
        "operations cleverly so that the numbers do not overflow.\n",
        "For example, if you need to calculate n! / k! where n! is factorial(n), one approach is to calculate\n",
        "factorial(n), factorial(k) and then divide them.\n",
        "Another approach is to only multiple numbers from k + 1 ... n to calculate the result.\n",
        "Obviously approach 1 is more susceptible to overflows.\n",
        "You are given a read only array of n integers from 1 to n.\n",
        "Each integer appears exactly once except A which appears twice and B which is missing.\n",
        "Return A and B.\n",
        "Note: Your algorithm should have a linear runtime complexity. Could you implement it without using extra\n",
        "memory?\n",
        "Note that in your output A should precede B"
      ],
      "metadata": {
        "id": "S4hCMkl89Sik"
      }
    },
    {
      "cell_type": "code",
      "source": [
        "def repeatedNumber(nums):\n",
        "    n = len(nums)\n",
        "\n",
        "    # Iterate through the array for cyclic sort\n",
        "    i = 0\n",
        "    while i < n:\n",
        "        # Check if the current element is at its correct position\n",
        "        if nums[i] != i + 1 and nums[i] != nums[nums[i] - 1]:\n",
        "            # Swap the elements to their correct positions\n",
        "            nums[nums[i] - 1], nums[i] = nums[i], nums[nums[i] - 1]\n",
        "        else:\n",
        "            i += 1\n",
        "\n",
        "    # Find the first misplaced element, which is the repeated number\n",
        "    for i in range(n):\n",
        "        if nums[i] != i + 1:\n",
        "            repeated_number = nums[i]\n",
        "            missing_number = i + 1\n",
        "            return [repeated_number, missing_number]\n",
        "\n",
        "# Example usage\n",
        "input_array = [3, 1, 2, 5, 3]\n",
        "result = repeatedNumber(input_array)\n",
        "print(result)  # Output: [3, 4]\n"
      ],
      "metadata": {
        "colab": {
          "base_uri": "https://localhost:8080/"
        },
        "id": "HRzIdOei9PjU",
        "outputId": "ba2bb4d3-93ae-458b-a3b7-3a7db06b10e4"
      },
      "execution_count": null,
      "outputs": [
        {
          "output_type": "stream",
          "name": "stdout",
          "text": [
            "[3, 4]\n"
          ]
        }
      ]
    },
    {
      "cell_type": "markdown",
      "source": [
        "Given a non-negative number represented as an array of digits, add 1 to the number\n",
        "( increment the number represented by the digits ).\n",
        "The digits are stored such that the most significant digit is at the head of the list.\n",
        "NOTE: Certain things are intentionally left unclear in this question which you should practice asking the\n",
        "interviewer. For example: for this problem, following are some good questions to ask :\n",
        "• Q : Can the input have 0's before the most significant digit. Or in other words, is 0 1 2 3 a valid input?\n",
        "• A : For the purpose of this question, YES\n",
        "• Q : Can the output have 0's before the most significant digit? Or in other words, is 0 1 2 4 a valid output?\n",
        "• A : For the purpose of this question, NO. Even if the input has zeroes before the most significant digit.\n",
        "Input Format\n",
        "First argument is an array of digits.\n",
        "Output Format\n",
        "Return the array of digits after adding one"
      ],
      "metadata": {
        "id": "K4lTQIiU9w0D"
      }
    },
    {
      "cell_type": "code",
      "source": [
        "def plusOne(digits):\n",
        "    n = len(digits)\n",
        "\n",
        "    # Start from the least significant digit\n",
        "    for i in range(n - 1, -1, -1):\n",
        "        if digits[i] + 1 < 10:\n",
        "            # If adding one doesn't result in a carry, just add one and return the updated array\n",
        "            digits[i] += 1\n",
        "            return digits\n",
        "        else:\n",
        "            # Set the current digit to 0 and continue to the next more significant digit\n",
        "            digits[i] = 0\n",
        "\n",
        "    # If we reach here, it means there was a carry to the most significant digit\n",
        "    # In this case, insert a new digit 1 at the beginning\n",
        "    return [1] + digits\n",
        "\n",
        "# Example usage\n",
        "input_array = [1, 2, 3]\n",
        "result = plusOne(input_array)\n",
        "print(result)  # Output: [1, 2, 4]\n"
      ],
      "metadata": {
        "colab": {
          "base_uri": "https://localhost:8080/"
        },
        "id": "X8YT-pHY9c9A",
        "outputId": "c387b085-d74f-4d18-fa7d-90e46a38696f"
      },
      "execution_count": null,
      "outputs": [
        {
          "output_type": "stream",
          "name": "stdout",
          "text": [
            "[1, 2, 4]\n"
          ]
        }
      ]
    },
    {
      "cell_type": "markdown",
      "source": [
        "Given an array of size n, find the majority element. The majority element is the element that\n",
        "appears more than floor(n/2) times.\n",
        "You may assume that the array is non-empty, and the majority element always exist in the array.\n"
      ],
      "metadata": {
        "id": "lOsHHMBa9-Rf"
      }
    },
    {
      "cell_type": "code",
      "source": [
        "def plusOne(digits):\n",
        "    n = len(digits)\n",
        "\n",
        "    # Start from the least significant digit\n",
        "    for i in range(n - 1, -1, -1):\n",
        "        if digits[i] + 1 < 10:\n",
        "            # If adding one doesn't result in a carry, just add one and return the updated array\n",
        "            digits[i] += 1\n",
        "            return digits\n",
        "        else:\n",
        "            # Set the current digit to 0 and continue to the next more significant digit\n",
        "            digits[i] = 0\n",
        "\n",
        "    # If we reach here, it means there was a carry to the most significant digit\n",
        "    # In this case, insert a new digit 1 at the beginning\n",
        "    return [1] + digits\n",
        "\n",
        "# Example usage\n",
        "input_array = [1, 2, 3]\n",
        "result = plusOne(input_array)\n",
        "print(result)  # Output: [1, 2, 4]\n"
      ],
      "metadata": {
        "colab": {
          "base_uri": "https://localhost:8080/"
        },
        "id": "oe7uFsr39xn7",
        "outputId": "dc3797c0-de99-4441-da4b-171f42e31538"
      },
      "execution_count": null,
      "outputs": [
        {
          "output_type": "stream",
          "name": "stdout",
          "text": [
            "[1, 2, 4]\n"
          ]
        }
      ]
    },
    {
      "cell_type": "markdown",
      "source": [
        "\n",
        "Write a program to find the node at which the intersection of two singly linked lists begins.\n",
        "For example, the following two linked lists:\n",
        "A: a1 → a2\n",
        "↘\n",
        "c1 → c2 → c3\n",
        "↗\n",
        "B: b1 → b2 → b3\n",
        "begin to intersect at node c1.\n",
        "Notes:\n",
        "• If the two linked lists have no intersection at all, return null.\n",
        "• The linked lists must retain their original structure after the function returns.\n",
        "• You may assume there are no cycles anywhere in the entire linked structure.\n",
        "• Your code should preferably run in O(n) time and use only O(1) memory."
      ],
      "metadata": {
        "id": "sVXbNA2d-BkE"
      }
    },
    {
      "cell_type": "code",
      "source": [
        "class ListNode:\n",
        "    def __init__(self, value=0, next=None):\n",
        "        self.value = value\n",
        "        self.next = next\n",
        "\n",
        "def getIntersectionNode(headA, headB):\n",
        "    def getLength(node):\n",
        "        length = 0\n",
        "        while node:\n",
        "            length += 1\n",
        "            node = node.next\n",
        "        return length\n",
        "\n",
        "    def moveAhead(node, steps):\n",
        "        while steps > 0:\n",
        "            node = node.next\n",
        "            steps -= 1\n",
        "        return node\n",
        "\n",
        "    # Get lengths and tail nodes\n",
        "    lenA, lenB = getLength(headA), getLength(headB)\n",
        "    tailA, tailB = moveAhead(headA, lenA - 1), moveAhead(headB, lenB - 1)\n",
        "\n",
        "    # If tail nodes are different, no intersection\n",
        "    if tailA != tailB:\n",
        "        return None\n",
        "\n",
        "    # Determine the difference in lengths\n",
        "    lengthDiff = abs(lenA - lenB)\n",
        "\n",
        "    # Move the pointer of the longer linked list ahead\n",
        "    if lenA > lenB:\n",
        "        headA = moveAhead(headA, lengthDiff)\n",
        "    else:\n",
        "        headB = moveAhead(headB, lengthDiff)\n",
        "\n",
        "    # Traverse both linked lists until the pointers meet at the intersection point\n",
        "    while headA != headB:\n",
        "        headA = headA.next\n",
        "        headB = headB.next\n",
        "\n",
        "    return headA  # or headB (they are now both pointing to the intersection)\n",
        "\n",
        "# Example usage\n",
        "# Construct linked lists A and B with an intersection at node c1\n",
        "a1 = ListNode(1)\n",
        "a2 = ListNode(2)\n",
        "c1 = ListNode(3)\n",
        "c2 = ListNode(4)\n",
        "c3 = ListNode(5)\n",
        "\n",
        "b1 = ListNode(6)\n",
        "b2 = ListNode(7)\n",
        "\n",
        "a1.next = a2\n",
        "a2.next = c1\n",
        "c1.next = c2\n",
        "c2.next = c3\n",
        "\n",
        "b1.next = b2\n",
        "b2.next = c1\n",
        "\n",
        "result = getIntersectionNode(a1, b1)\n",
        "print(result.value)  # Output: 3\n"
      ],
      "metadata": {
        "colab": {
          "base_uri": "https://localhost:8080/"
        },
        "id": "1Iy7iSGf98Zk",
        "outputId": "ac757a84-3ca1-4291-9d46-ff3450b4ce59"
      },
      "execution_count": null,
      "outputs": [
        {
          "output_type": "stream",
          "name": "stdout",
          "text": [
            "3\n"
          ]
        }
      ]
    },
    {
      "cell_type": "markdown",
      "source": [
        "Given numRows, generate the first numRows of Pascal's triangle.\n",
        "Pascal's triangle : To generate A[C] in row R, sum up A'[C] and A'[C-1] from previous row R - 1.\n",
        "Example:\n",
        "Given numRows = 5,\n",
        "Return\n",
        "[\n",
        "[1],\n",
        "[1,1],\n",
        "[1,2,1],\n",
        "[1,3,3,1],\n",
        "[1,4,6,4,1]\n",
        "]\n",
        "Constraints:\n",
        "0 <= numRows <= 25"
      ],
      "metadata": {
        "id": "Px_gN8sR-TAd"
      }
    },
    {
      "cell_type": "code",
      "source": [
        "def generate(numRows):\n",
        "    if numRows == 0:\n",
        "        return []\n",
        "\n",
        "    result = []\n",
        "    for i in range(numRows):\n",
        "        row = [1] * (i + 1)\n",
        "        for j in range(1, i):\n",
        "            row[j] = result[i - 1][j - 1] + result[i - 1][j]\n",
        "        result.append(row)\n",
        "\n",
        "    return result\n",
        "\n",
        "# Example usage\n",
        "numRows = 5\n",
        "result = generate(numRows)\n",
        "print(result)\n"
      ],
      "metadata": {
        "colab": {
          "base_uri": "https://localhost:8080/"
        },
        "id": "HnwDpvS4-NtG",
        "outputId": "6fae39d0-0ade-4d04-cdef-944be95f269f"
      },
      "execution_count": null,
      "outputs": [
        {
          "output_type": "stream",
          "name": "stdout",
          "text": [
            "[[1], [1, 1], [1, 2, 1], [1, 3, 3, 1], [1, 4, 6, 4, 1]]\n"
          ]
        }
      ]
    },
    {
      "cell_type": "markdown",
      "source": [
        "Determine whether an integer is a palindrome. Do this without extra space.\n",
        "A palindrome integer is an integer x for which reverse(x) = x where reverse(x) is x with its digit\n",
        "reversed. Negative numbers are not palindromic.\n",
        "Example :\n",
        "Input : 12121\n",
        "Output : 1\n",
        "\n",
        "Input : 123\n",
        "Output : 0"
      ],
      "metadata": {
        "id": "knmYrdti-XOv"
      }
    },
    {
      "cell_type": "code",
      "source": [
        "def isPalindrome(x):\n",
        "    # Check if negative numbers are not palindromic\n",
        "    if x < 0:\n",
        "        return 0\n",
        "\n",
        "    original_num, reversed_num = x, 0\n",
        "\n",
        "    # Reverse the second half of the number\n",
        "    while original_num > reversed_num:\n",
        "        reversed_num = reversed_num * 10 + original_num % 10\n",
        "        original_num //= 10\n",
        "\n",
        "    # If the length of the number is odd, divide by 10 to remove the middle digit\n",
        "    if original_num == reversed_num or original_num == reversed_num // 10:\n",
        "        return 1  # It's a palindrome\n",
        "    else:\n",
        "        return 0  # It's not a palindrome\n",
        "\n",
        "# Example usage\n",
        "input1 = 12121\n",
        "input2 = 123\n",
        "\n",
        "output1 = isPalindrome(input1)\n",
        "output2 = isPalindrome(input2)\n",
        "\n",
        "print(output1)  # Output: 1\n",
        "print(output2)  # Output: 0\n"
      ],
      "metadata": {
        "colab": {
          "base_uri": "https://localhost:8080/"
        },
        "id": "z8Y6sQNg-bOc",
        "outputId": "f31f9a14-71ac-45e9-c27d-e591f5b79830"
      },
      "execution_count": null,
      "outputs": [
        {
          "output_type": "stream",
          "name": "stdout",
          "text": [
            "1\n",
            "0\n"
          ]
        }
      ]
    },
    {
      "cell_type": "markdown",
      "source": [
        "Given a number N, verify if N is prime or not.\n",
        "Return 1 if N is prime, else return 0.\n",
        "Example :\n",
        "Input : 7\n",
        "Output : True"
      ],
      "metadata": {
        "id": "FCFgXQfVTSer"
      }
    },
    {
      "cell_type": "code",
      "source": [
        "import math\n",
        "\n",
        "def is_prime(N):\n",
        "    if N <= 1:\n",
        "        return 0  # 0 and 1 are not prime numbers\n",
        "\n",
        "    # Check divisibility from 2 to the square root of N\n",
        "    for i in range(2, int(math.sqrt(N)) + 1):\n",
        "        if N % i == 0:\n",
        "            return 0  # N is divisible by i, so it's not a prime number\n",
        "\n",
        "    return 1  # N is prime\n",
        "\n",
        "# Example usage\n",
        "input_number = 7\n",
        "output = is_prime(input_number)\n",
        "print(output)  # Output: True\n"
      ],
      "metadata": {
        "id": "aHfvtwar-fEz",
        "colab": {
          "base_uri": "https://localhost:8080/"
        },
        "outputId": "d6854708-3ed9-4dc6-ccce-791b7f684fe6"
      },
      "execution_count": 1,
      "outputs": [
        {
          "output_type": "stream",
          "name": "stdout",
          "text": [
            "1\n"
          ]
        }
      ]
    },
    {
      "cell_type": "markdown",
      "source": [
        "the result overflows and does not fit in a 32 bit signed integer\n",
        "Look at the example for clarification.\n",
        "Problem Constraints\n",
        "N belongs to the Integer limits.\n",
        "Input Format\n",
        "Input an Integer.\n",
        "\n",
        "Output Format\n",
        "Return a single integer denoting the reverse of the given integer.\n",
        "Example Input\n",
        "Input 1:\n",
        "x = 123\n",
        "Input 2:\n",
        "x = -123\n",
        "Example Output\n",
        "Output 1:\n",
        "321\n",
        "Ouput 2:\n",
        "-321"
      ],
      "metadata": {
        "id": "a1RjTwMzTdPA"
      }
    },
    {
      "cell_type": "code",
      "source": [
        "def reverse(x):\n",
        "    INT_MAX = 2**31 - 1\n",
        "    INT_MIN = -2**31\n",
        "\n",
        "    result = 0\n",
        "    sign = 1 if x >= 0 else -1\n",
        "    x = abs(x)\n",
        "\n",
        "    while x != 0:\n",
        "        digit = x % 10\n",
        "        x //= 10\n",
        "\n",
        "        # Check for overflow before updating the result\n",
        "        if result > (INT_MAX - digit) // 10:\n",
        "            return 0\n",
        "\n",
        "        result = result * 10 + digit\n",
        "\n",
        "    return sign * result\n",
        "\n",
        "# Example usage\n",
        "input1 = 123\n",
        "input2 = -123\n",
        "\n",
        "output1 = reverse(input1)\n",
        "output2 = reverse(input2)\n",
        "\n",
        "print(output1)  # Output: 321\n",
        "print(output2)  # Output: -321\n"
      ],
      "metadata": {
        "colab": {
          "base_uri": "https://localhost:8080/"
        },
        "id": "RreetOtRTkU6",
        "outputId": "4d556c07-c491-4dc9-9d71-a6151f90b257"
      },
      "execution_count": 2,
      "outputs": [
        {
          "output_type": "stream",
          "name": "stdout",
          "text": [
            "321\n",
            "-321\n"
          ]
        }
      ]
    },
    {
      "cell_type": "markdown",
      "source": [
        "Given a positive integer A, return its corresponding column title as appear in an Excel sheet.\n",
        "Problem Constraints\n",
        "1 <= A <= 1000000000\n",
        "Input Format\n",
        "First and only argument is integer A.\n",
        "Output Format\n",
        "Return a string, the answer to the problem.\n",
        "\n",
        "Example Input\n",
        "Input 1:\n",
        "A = 1\n",
        "Input 2:\n",
        "A = 28\n",
        "\n",
        "Example Output\n",
        "Output 1:\n",
        "\"A\"\n",
        "Output 2:\n",
        "\"AB\""
      ],
      "metadata": {
        "id": "uhqjdvzpTnTC"
      }
    },
    {
      "cell_type": "code",
      "source": [
        "def convertToTitle(A):\n",
        "    result = \"\"\n",
        "    while A > 0:\n",
        "        # Map the remainder to the corresponding character\n",
        "        remainder = (A - 1) % 26\n",
        "        result = chr(ord('A') + remainder) + result\n",
        "\n",
        "        # Update A for the next iteration\n",
        "        A = (A - 1) // 26\n",
        "\n",
        "    return result\n",
        "\n",
        "# Example usage\n",
        "input1 = 1\n",
        "input2 = 28\n",
        "\n",
        "output1 = convertToTitle(input1)\n",
        "output2 = convertToTitle(input2)\n",
        "\n",
        "print(output1)  # Output: \"A\"\n",
        "print(output2)  # Output: \"AB\"\n"
      ],
      "metadata": {
        "colab": {
          "base_uri": "https://localhost:8080/"
        },
        "id": "USM58S_nTm3z",
        "outputId": "5bd7940b-8c68-482c-b1c2-da770dd56c3c"
      },
      "execution_count": 3,
      "outputs": [
        {
          "output_type": "stream",
          "name": "stdout",
          "text": [
            "A\n",
            "AB\n"
          ]
        }
      ]
    },
    {
      "cell_type": "markdown",
      "source": [
        "There are three ants on a triangle, one at each corner.\n",
        "At a given moment in time, they all set off for a corner at random.\n",
        "What is the probability that they don’t collide?\n",
        "\n",
        "Answer is a floating point number. Round it off to 2 decimal places and output it as I.xx where I\n",
        "is the integer part of the answer, and xx are 2 decimal digits after rounding off.\n",
        "For example, if the answer is 2/3, the response should be 0.67"
      ],
      "metadata": {
        "id": "liVlsMX1TvAg"
      }
    },
    {
      "cell_type": "code",
      "source": [
        "def probability_no_collision():\n",
        "    total_outcomes = 3 ** 3  # Total number of outcomes\n",
        "\n",
        "    # Number of outcomes where at least two ants choose the same corner\n",
        "    colliding_outcomes = 3 + (3 * 2 * 2) + 6\n",
        "\n",
        "    # Number of outcomes where ants don't collide\n",
        "    non_colliding_outcomes = total_outcomes - colliding_outcomes\n",
        "\n",
        "    # Probability of not colliding\n",
        "    probability = non_colliding_outcomes / total_outcomes\n",
        "\n",
        "    return round(probability, 2)\n",
        "\n",
        "# Calculate and print the probability\n",
        "result = probability_no_collision()\n",
        "print(result)\n"
      ],
      "metadata": {
        "colab": {
          "base_uri": "https://localhost:8080/"
        },
        "id": "8WvSvboNTrxP",
        "outputId": "a1197ea7-d1c7-46ce-ebb5-c99895ed4692"
      },
      "execution_count": 4,
      "outputs": [
        {
          "output_type": "stream",
          "name": "stdout",
          "text": [
            "0.22\n"
          ]
        }
      ]
    },
    {
      "cell_type": "markdown",
      "source": [
        "Find the intersection of two sorted arrays. OR in other words, Given 2 sorted arrays, find all the\n",
        "elements which occur in both the arrays.\n",
        "\n",
        "Example:\n",
        "Input:\n",
        "A: [1 2 3 3 4 5 6]\n",
        "B: [3 3 5]\n",
        "Output: [3 3 5]\n",
        "\n",
        "Input:\n",
        "A: [1 2 3 3 4 5 6]\n",
        "B: [3 5]\n",
        "Output: [3 5]\n",
        "\n",
        "NOTE : For the purpose of this problem ( as also conveyed by the sample case ), assume that\n",
        "elements that appear more than once in both arrays should be included multiple times in the\n",
        "final output."
      ],
      "metadata": {
        "id": "Aj6m60fCT8PJ"
      }
    },
    {
      "cell_type": "code",
      "source": [
        "def intersect(A, B):\n",
        "    result = []\n",
        "\n",
        "    i, j = 0, 0\n",
        "    while i < len(A) and j < len(B):\n",
        "        if A[i] == B[j]:\n",
        "            result.append(A[i])\n",
        "            i += 1\n",
        "            j += 1\n",
        "        elif A[i] < B[j]:\n",
        "            i += 1\n",
        "        else:\n",
        "            j += 1\n",
        "\n",
        "    return result\n",
        "\n",
        "# Example usage\n",
        "input1 = [1, 2, 3, 3, 4, 5, 6]\n",
        "input2 = [3, 3, 5]\n",
        "\n",
        "output = intersect(input1, input2)\n",
        "print(output)  # Output: [3, 3, 5]\n",
        "\n"
      ],
      "metadata": {
        "colab": {
          "base_uri": "https://localhost:8080/"
        },
        "id": "D4bGPqoST743",
        "outputId": "011e4424-8667-44c2-ab06-266829dd304d"
      },
      "execution_count": 5,
      "outputs": [
        {
          "output_type": "stream",
          "name": "stdout",
          "text": [
            "[3, 3, 5]\n"
          ]
        }
      ]
    },
    {
      "cell_type": "code",
      "source": [],
      "metadata": {
        "id": "SmFNX9N6UEj-"
      },
      "execution_count": null,
      "outputs": []
    }
  ]
}