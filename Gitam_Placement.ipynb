{
  "nbformat": 4,
  "nbformat_minor": 0,
  "metadata": {
    "colab": {
      "provenance": [],
      "authorship_tag": "ABX9TyNJtIq3MMpeQTCXw7oSYGUX",
      "include_colab_link": true
    },
    "kernelspec": {
      "name": "python3",
      "display_name": "Python 3"
    },
    "language_info": {
      "name": "python"
    }
  },
  "cells": [
    {
      "cell_type": "markdown",
      "metadata": {
        "id": "view-in-github",
        "colab_type": "text"
      },
      "source": [
        "<a href=\"https://colab.research.google.com/github/srikarkadiyala/-Prediction-using-Supervised-ML/blob/main/Gitam_Placement.ipynb\" target=\"_parent\"><img src=\"https://colab.research.google.com/assets/colab-badge.svg\" alt=\"Open In Colab\"/></a>"
      ]
    },
    {
      "cell_type": "markdown",
      "source": [
        "#GITAM CODING ASSIGNMENT\n",
        "###NAME:SRIKAR KADIYALA\n",
        "###SEC:CSE B(2)\n",
        "###PIN NUMBER:222010302059"
      ],
      "metadata": {
        "id": "DzxNwvCAtBhv"
      }
    },
    {
      "cell_type": "markdown",
      "source": [
        "There are N children standing in a line. Each child is assigned a rating value.\n",
        "You are giving candies to these children subjected to the following requirements:\n",
        "1. Each child must have at least one candy.\n",
        "2. Children with a higher rating get more candies than their neighbours.\n",
        "\n",
        "What is the minimum candies you must give?\n",
        "Input Format:\n",
        "The first and the only argument contains N integers in an array A.\n",
        "Output Format:\n",
        "Return an integer, representing the minimum candies to be given."
      ],
      "metadata": {
        "id": "OI_3s4ym8hPT"
      }
    },
    {
      "cell_type": "code",
      "execution_count": 3,
      "metadata": {
        "colab": {
          "base_uri": "https://localhost:8080/"
        },
        "id": "2nHwhnxktArP",
        "outputId": "8aff597c-e5c9-42db-82fe-9539526cb3e1"
      },
      "outputs": [
        {
          "output_type": "stream",
          "name": "stdout",
          "text": [
            "3\n"
          ]
        }
      ],
      "source": [
        "\n",
        "\n",
        "def min_candies(A):\n",
        "    n = len(A)\n",
        "\n",
        "    # Step 1: Initialize candies array\n",
        "    candies = [1] * n\n",
        "\n",
        "    # Step 2: Traverse from left to right\n",
        "    for i in range(1, n):\n",
        "        if A[i] > A[i - 1]:\n",
        "            candies[i] = candies[i - 1] + 1\n",
        "\n",
        "    # Step 3: Traverse from right to left\n",
        "    for i in range(n - 2, -1, -1):\n",
        "        if A[i] > A[i + 1] and candies[i] <= candies[i + 1]:\n",
        "            candies[i] = candies[i + 1] + 1\n",
        "\n",
        "    # Step 4: Sum up candies array\n",
        "    return sum(candies)\n",
        "\n",
        "# Example usage\n",
        "A = [1, 2]\n",
        "result = min_candies(A)\n",
        "print(result)\n"
      ]
    },
    {
      "cell_type": "markdown",
      "source": [
        "Say you have an array, A, for which the ith element is the price of a given stock on day i.\n",
        "If you were only permitted to complete at most one transaction (i.e, buy one and sell one share of the\n",
        "stock), design an algorithm to find the maximum profit.\n",
        "Return the maximum possible profit.\n",
        "Problem Constraints\n",
        "0 <= len(A) <= 7e5\n",
        "1 <= A[i] <= 1e7\n",
        "Input Format\n",
        "The first and the only argument is an array of integers, A.\n",
        "Output Format\n",
        "Return an integer, representing the maximum possible profit.\n",
        "Example Input\n",
        "Input 1:\n",
        "A = [1, 2]\n",
        "Input 2:\n",
        "A = [1, 4, 5, 2, 4]\n",
        "Example Output\n",
        "Output 1:\n",
        "1\n",
        "Output 2:\n",
        "4"
      ],
      "metadata": {
        "id": "EtzgdNRg8dfE"
      }
    },
    {
      "cell_type": "code",
      "source": [
        "def max_profit(A):\n",
        "    if not A or len(A) < 2:\n",
        "        return 0\n",
        "\n",
        "    min_price = A[0]\n",
        "    max_profit = 0\n",
        "\n",
        "    for price in A:\n",
        "        # Update the minimum price if a lower price is encountered\n",
        "        min_price = min(min_price, price)\n",
        "\n",
        "        # Update the maximum profit if selling at the current price yields a higher profit\n",
        "        max_profit = max(max_profit, price - min_price)\n",
        "\n",
        "    return max_profit\n",
        "\n",
        "# Example usage\n",
        "A1 = [1, 2]\n",
        "A2 = [1, 4, 5, 2, 4]\n",
        "\n",
        "result1 = max_profit(A1)\n",
        "result2 = max_profit(A2)\n",
        "\n",
        "print(result1)  # Output 1\n",
        "print(result2)  # Output 4\n",
        "\n"
      ],
      "metadata": {
        "colab": {
          "base_uri": "https://localhost:8080/"
        },
        "id": "Sny9Fdsb81WC",
        "outputId": "fc58bed9-f604-47cb-f3fa-ef4afed7cf6c"
      },
      "execution_count": 4,
      "outputs": [
        {
          "output_type": "stream",
          "name": "stdout",
          "text": [
            "1\n",
            "4\n"
          ]
        }
      ]
    },
    {
      "cell_type": "markdown",
      "source": [
        "You are climbing a stair case and it takes A steps to reach to the top.\n",
        "Each time you can either climb 1 or 2 steps. In how many distinct ways can you climb to the top?\n",
        "Input Format:\n",
        "The first and the only argument contains an integer A, the number of steps.\n",
        "Output Format:\n",
        "Return an integer, representing the number of ways to reach the top.\n",
        "Constrains:\n",
        "1 <= A <= 36"
      ],
      "metadata": {
        "id": "WSTQAlUJ9Aqk"
      }
    },
    {
      "cell_type": "code",
      "source": [
        "def climbStairs(A):\n",
        "    if A <= 0:\n",
        "        return 0\n",
        "    if A == 1:\n",
        "        return 1\n",
        "    if A == 2:\n",
        "        return 2\n",
        "\n",
        "    ways = [0] * (A + 1)\n",
        "    ways[1] = 1\n",
        "    ways[2] = 2\n",
        "\n",
        "    for i in range(3, A + 1):\n",
        "        ways[i] = ways[i - 1] + ways[i - 2]\n",
        "\n",
        "    return ways[A]\n",
        "\n",
        "# Example usage\n",
        "A1 = 2\n",
        "A2 = 3\n",
        "\n",
        "result1 = climbStairs(A1)\n",
        "result2 = climbStairs(A2)\n",
        "\n",
        "print(result1)  # Output 2\n",
        "print(result2)  # Output 3\n",
        "\n"
      ],
      "metadata": {
        "colab": {
          "base_uri": "https://localhost:8080/"
        },
        "id": "uw3PqWwq9BSd",
        "outputId": "a54e471b-d5e5-4f6d-e277-346d6ce4a73e"
      },
      "execution_count": 5,
      "outputs": [
        {
          "output_type": "stream",
          "name": "stdout",
          "text": [
            "2\n",
            "3\n"
          ]
        }
      ]
    },
    {
      "cell_type": "markdown",
      "source": [
        "Problem Description\n",
        "Given an index k, return the kth row of the Pascal's triangle.\n",
        "Pascal's triangle: To generate A[C] in row R, sum up A'[C] and A'[C-1] from previous row R - 1."
      ],
      "metadata": {
        "id": "76BSKBuU9Dwc"
      }
    },
    {
      "cell_type": "code",
      "source": [
        "def getRow(k):\n",
        "    if k < 0:\n",
        "        return []\n",
        "\n",
        "    result = [1]\n",
        "\n",
        "    for i in range(1, k + 1):\n",
        "        # Calculate the next element by summing up corresponding elements from the previous row\n",
        "        current_element = result[i - 1] * (k - i + 1) // i\n",
        "        result.append(current_element)\n",
        "\n",
        "    return result\n",
        "\n",
        "# Example usage\n",
        "k = 3\n",
        "result = getRow(k)\n",
        "print(result)  # Output: [1, 3, 3, 1]\n"
      ],
      "metadata": {
        "colab": {
          "base_uri": "https://localhost:8080/"
        },
        "id": "6NjLrS_I9DPE",
        "outputId": "023b36f8-3ccd-4e44-8b2a-59d066bf54ad"
      },
      "execution_count": 6,
      "outputs": [
        {
          "output_type": "stream",
          "name": "stdout",
          "text": [
            "[1, 3, 3, 1]\n"
          ]
        }
      ]
    },
    {
      "cell_type": "markdown",
      "source": [
        "There are certain problems which are asked in the interview to also check how you take care of overflows\n",
        "in your problem.\n",
        "This is one of those problems.\n",
        "Please take extra care to make sure that you are type-casting your ints to long properly and at all places.\n",
        "Try to verify if your solution works if number of elements is as large as 105\n",
        "Food for thought :\n",
        "• Even though it might not be required in this problem, in some cases, you might be required to order the\n",
        "operations cleverly so that the numbers do not overflow.\n",
        "For example, if you need to calculate n! / k! where n! is factorial(n), one approach is to calculate\n",
        "factorial(n), factorial(k) and then divide them.\n",
        "Another approach is to only multiple numbers from k + 1 ... n to calculate the result.\n",
        "Obviously approach 1 is more susceptible to overflows.\n",
        "You are given a read only array of n integers from 1 to n.\n",
        "Each integer appears exactly once except A which appears twice and B which is missing.\n",
        "Return A and B.\n",
        "Note: Your algorithm should have a linear runtime complexity. Could you implement it without using extra\n",
        "memory?\n",
        "Note that in your output A should precede B"
      ],
      "metadata": {
        "id": "S4hCMkl89Sik"
      }
    },
    {
      "cell_type": "code",
      "source": [
        "def repeatedNumber(nums):\n",
        "    n = len(nums)\n",
        "\n",
        "    # Iterate through the array for cyclic sort\n",
        "    i = 0\n",
        "    while i < n:\n",
        "        # Check if the current element is at its correct position\n",
        "        if nums[i] != i + 1 and nums[i] != nums[nums[i] - 1]:\n",
        "            # Swap the elements to their correct positions\n",
        "            nums[nums[i] - 1], nums[i] = nums[i], nums[nums[i] - 1]\n",
        "        else:\n",
        "            i += 1\n",
        "\n",
        "    # Find the first misplaced element, which is the repeated number\n",
        "    for i in range(n):\n",
        "        if nums[i] != i + 1:\n",
        "            repeated_number = nums[i]\n",
        "            missing_number = i + 1\n",
        "            return [repeated_number, missing_number]\n",
        "\n",
        "# Example usage\n",
        "input_array = [3, 1, 2, 5, 3]\n",
        "result = repeatedNumber(input_array)\n",
        "print(result)  # Output: [3, 4]\n"
      ],
      "metadata": {
        "colab": {
          "base_uri": "https://localhost:8080/"
        },
        "id": "HRzIdOei9PjU",
        "outputId": "ba2bb4d3-93ae-458b-a3b7-3a7db06b10e4"
      },
      "execution_count": 7,
      "outputs": [
        {
          "output_type": "stream",
          "name": "stdout",
          "text": [
            "[3, 4]\n"
          ]
        }
      ]
    },
    {
      "cell_type": "markdown",
      "source": [
        "Given a non-negative number represented as an array of digits, add 1 to the number\n",
        "( increment the number represented by the digits ).\n",
        "The digits are stored such that the most significant digit is at the head of the list.\n",
        "NOTE: Certain things are intentionally left unclear in this question which you should practice asking the\n",
        "interviewer. For example: for this problem, following are some good questions to ask :\n",
        "• Q : Can the input have 0's before the most significant digit. Or in other words, is 0 1 2 3 a valid input?\n",
        "• A : For the purpose of this question, YES\n",
        "• Q : Can the output have 0's before the most significant digit? Or in other words, is 0 1 2 4 a valid output?\n",
        "• A : For the purpose of this question, NO. Even if the input has zeroes before the most significant digit.\n",
        "Input Format\n",
        "First argument is an array of digits.\n",
        "Output Format\n",
        "Return the array of digits after adding one"
      ],
      "metadata": {
        "id": "K4lTQIiU9w0D"
      }
    },
    {
      "cell_type": "code",
      "source": [
        "def plusOne(digits):\n",
        "    n = len(digits)\n",
        "\n",
        "    # Start from the least significant digit\n",
        "    for i in range(n - 1, -1, -1):\n",
        "        if digits[i] + 1 < 10:\n",
        "            # If adding one doesn't result in a carry, just add one and return the updated array\n",
        "            digits[i] += 1\n",
        "            return digits\n",
        "        else:\n",
        "            # Set the current digit to 0 and continue to the next more significant digit\n",
        "            digits[i] = 0\n",
        "\n",
        "    # If we reach here, it means there was a carry to the most significant digit\n",
        "    # In this case, insert a new digit 1 at the beginning\n",
        "    return [1] + digits\n",
        "\n",
        "# Example usage\n",
        "input_array = [1, 2, 3]\n",
        "result = plusOne(input_array)\n",
        "print(result)  # Output: [1, 2, 4]\n"
      ],
      "metadata": {
        "colab": {
          "base_uri": "https://localhost:8080/"
        },
        "id": "X8YT-pHY9c9A",
        "outputId": "c387b085-d74f-4d18-fa7d-90e46a38696f"
      },
      "execution_count": 8,
      "outputs": [
        {
          "output_type": "stream",
          "name": "stdout",
          "text": [
            "[1, 2, 4]\n"
          ]
        }
      ]
    },
    {
      "cell_type": "markdown",
      "source": [
        "Given an array of size n, find the majority element. The majority element is the element that\n",
        "appears more than floor(n/2) times.\n",
        "You may assume that the array is non-empty, and the majority element always exist in the array.\n"
      ],
      "metadata": {
        "id": "lOsHHMBa9-Rf"
      }
    },
    {
      "cell_type": "code",
      "source": [
        "def plusOne(digits):\n",
        "    n = len(digits)\n",
        "\n",
        "    # Start from the least significant digit\n",
        "    for i in range(n - 1, -1, -1):\n",
        "        if digits[i] + 1 < 10:\n",
        "            # If adding one doesn't result in a carry, just add one and return the updated array\n",
        "            digits[i] += 1\n",
        "            return digits\n",
        "        else:\n",
        "            # Set the current digit to 0 and continue to the next more significant digit\n",
        "            digits[i] = 0\n",
        "\n",
        "    # If we reach here, it means there was a carry to the most significant digit\n",
        "    # In this case, insert a new digit 1 at the beginning\n",
        "    return [1] + digits\n",
        "\n",
        "# Example usage\n",
        "input_array = [1, 2, 3]\n",
        "result = plusOne(input_array)\n",
        "print(result)  # Output: [1, 2, 4]\n"
      ],
      "metadata": {
        "colab": {
          "base_uri": "https://localhost:8080/"
        },
        "id": "oe7uFsr39xn7",
        "outputId": "dc3797c0-de99-4441-da4b-171f42e31538"
      },
      "execution_count": 9,
      "outputs": [
        {
          "output_type": "stream",
          "name": "stdout",
          "text": [
            "[1, 2, 4]\n"
          ]
        }
      ]
    },
    {
      "cell_type": "markdown",
      "source": [
        "\n",
        "Write a program to find the node at which the intersection of two singly linked lists begins.\n",
        "For example, the following two linked lists:\n",
        "A: a1 → a2\n",
        "↘\n",
        "c1 → c2 → c3\n",
        "↗\n",
        "B: b1 → b2 → b3\n",
        "begin to intersect at node c1.\n",
        "Notes:\n",
        "• If the two linked lists have no intersection at all, return null.\n",
        "• The linked lists must retain their original structure after the function returns.\n",
        "• You may assume there are no cycles anywhere in the entire linked structure.\n",
        "• Your code should preferably run in O(n) time and use only O(1) memory."
      ],
      "metadata": {
        "id": "sVXbNA2d-BkE"
      }
    },
    {
      "cell_type": "code",
      "source": [
        "class ListNode:\n",
        "    def __init__(self, value=0, next=None):\n",
        "        self.value = value\n",
        "        self.next = next\n",
        "\n",
        "def getIntersectionNode(headA, headB):\n",
        "    def getLength(node):\n",
        "        length = 0\n",
        "        while node:\n",
        "            length += 1\n",
        "            node = node.next\n",
        "        return length\n",
        "\n",
        "    def moveAhead(node, steps):\n",
        "        while steps > 0:\n",
        "            node = node.next\n",
        "            steps -= 1\n",
        "        return node\n",
        "\n",
        "    # Get lengths and tail nodes\n",
        "    lenA, lenB = getLength(headA), getLength(headB)\n",
        "    tailA, tailB = moveAhead(headA, lenA - 1), moveAhead(headB, lenB - 1)\n",
        "\n",
        "    # If tail nodes are different, no intersection\n",
        "    if tailA != tailB:\n",
        "        return None\n",
        "\n",
        "    # Determine the difference in lengths\n",
        "    lengthDiff = abs(lenA - lenB)\n",
        "\n",
        "    # Move the pointer of the longer linked list ahead\n",
        "    if lenA > lenB:\n",
        "        headA = moveAhead(headA, lengthDiff)\n",
        "    else:\n",
        "        headB = moveAhead(headB, lengthDiff)\n",
        "\n",
        "    # Traverse both linked lists until the pointers meet at the intersection point\n",
        "    while headA != headB:\n",
        "        headA = headA.next\n",
        "        headB = headB.next\n",
        "\n",
        "    return headA  # or headB (they are now both pointing to the intersection)\n",
        "\n",
        "# Example usage\n",
        "# Construct linked lists A and B with an intersection at node c1\n",
        "a1 = ListNode(1)\n",
        "a2 = ListNode(2)\n",
        "c1 = ListNode(3)\n",
        "c2 = ListNode(4)\n",
        "c3 = ListNode(5)\n",
        "\n",
        "b1 = ListNode(6)\n",
        "b2 = ListNode(7)\n",
        "\n",
        "a1.next = a2\n",
        "a2.next = c1\n",
        "c1.next = c2\n",
        "c2.next = c3\n",
        "\n",
        "b1.next = b2\n",
        "b2.next = c1\n",
        "\n",
        "result = getIntersectionNode(a1, b1)\n",
        "print(result.value)  # Output: 3\n"
      ],
      "metadata": {
        "colab": {
          "base_uri": "https://localhost:8080/"
        },
        "id": "1Iy7iSGf98Zk",
        "outputId": "ac757a84-3ca1-4291-9d46-ff3450b4ce59"
      },
      "execution_count": 10,
      "outputs": [
        {
          "output_type": "stream",
          "name": "stdout",
          "text": [
            "3\n"
          ]
        }
      ]
    },
    {
      "cell_type": "markdown",
      "source": [
        "Given numRows, generate the first numRows of Pascal's triangle.\n",
        "Pascal's triangle : To generate A[C] in row R, sum up A'[C] and A'[C-1] from previous row R - 1.\n",
        "Example:\n",
        "Given numRows = 5,\n",
        "Return\n",
        "[\n",
        "[1],\n",
        "[1,1],\n",
        "[1,2,1],\n",
        "[1,3,3,1],\n",
        "[1,4,6,4,1]\n",
        "]\n",
        "Constraints:\n",
        "0 <= numRows <= 25"
      ],
      "metadata": {
        "id": "Px_gN8sR-TAd"
      }
    },
    {
      "cell_type": "code",
      "source": [
        "def generate(numRows):\n",
        "    if numRows == 0:\n",
        "        return []\n",
        "\n",
        "    result = []\n",
        "    for i in range(numRows):\n",
        "        row = [1] * (i + 1)\n",
        "        for j in range(1, i):\n",
        "            row[j] = result[i - 1][j - 1] + result[i - 1][j]\n",
        "        result.append(row)\n",
        "\n",
        "    return result\n",
        "\n",
        "# Example usage\n",
        "numRows = 5\n",
        "result = generate(numRows)\n",
        "print(result)\n"
      ],
      "metadata": {
        "colab": {
          "base_uri": "https://localhost:8080/"
        },
        "id": "HnwDpvS4-NtG",
        "outputId": "6fae39d0-0ade-4d04-cdef-944be95f269f"
      },
      "execution_count": 11,
      "outputs": [
        {
          "output_type": "stream",
          "name": "stdout",
          "text": [
            "[[1], [1, 1], [1, 2, 1], [1, 3, 3, 1], [1, 4, 6, 4, 1]]\n"
          ]
        }
      ]
    },
    {
      "cell_type": "markdown",
      "source": [
        "Determine whether an integer is a palindrome. Do this without extra space.\n",
        "A palindrome integer is an integer x for which reverse(x) = x where reverse(x) is x with its digit\n",
        "reversed. Negative numbers are not palindromic.\n",
        "Example :\n",
        "Input : 12121\n",
        "Output : 1\n",
        "\n",
        "Input : 123\n",
        "Output : 0"
      ],
      "metadata": {
        "id": "knmYrdti-XOv"
      }
    },
    {
      "cell_type": "code",
      "source": [
        "def isPalindrome(x):\n",
        "    # Check if negative numbers are not palindromic\n",
        "    if x < 0:\n",
        "        return 0\n",
        "\n",
        "    original_num, reversed_num = x, 0\n",
        "\n",
        "    # Reverse the second half of the number\n",
        "    while original_num > reversed_num:\n",
        "        reversed_num = reversed_num * 10 + original_num % 10\n",
        "        original_num //= 10\n",
        "\n",
        "    # If the length of the number is odd, divide by 10 to remove the middle digit\n",
        "    if original_num == reversed_num or original_num == reversed_num // 10:\n",
        "        return 1  # It's a palindrome\n",
        "    else:\n",
        "        return 0  # It's not a palindrome\n",
        "\n",
        "# Example usage\n",
        "input1 = 12121\n",
        "input2 = 123\n",
        "\n",
        "output1 = isPalindrome(input1)\n",
        "output2 = isPalindrome(input2)\n",
        "\n",
        "print(output1)  # Output: 1\n",
        "print(output2)  # Output: 0\n"
      ],
      "metadata": {
        "colab": {
          "base_uri": "https://localhost:8080/"
        },
        "id": "z8Y6sQNg-bOc",
        "outputId": "f31f9a14-71ac-45e9-c27d-e591f5b79830"
      },
      "execution_count": 12,
      "outputs": [
        {
          "output_type": "stream",
          "name": "stdout",
          "text": [
            "1\n",
            "0\n"
          ]
        }
      ]
    },
    {
      "cell_type": "code",
      "source": [],
      "metadata": {
        "id": "aHfvtwar-fEz"
      },
      "execution_count": null,
      "outputs": []
    }
  ]
}